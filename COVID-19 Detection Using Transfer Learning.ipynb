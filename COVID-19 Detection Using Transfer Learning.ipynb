# -*- coding: utf-8 -*-
"""

"""
import tensorflow as tf
from keras.layers import Input, Lambda, Dense, Flatten
from keras.models import Model
from keras.applications.vgg16 import VGG16
from keras.applications.vgg16 import preprocess_input
from keras.preprocessing import image
from keras.preprocessing.image import ImageDataGenerator
from keras.models import Sequential
import numpy as np
from glob import glob
import matplotlib.pyplot as plt
import pandas as pd
import matplotlib.pyplot as plt
from sklearn import model_selection
from sklearn.metrics import accuracy_score
from sklearn.metrics import confusion_matrix, classification_report
from sklearn.metrics import plot_confusion_matrix
from tensorflow.keras.optimizers import Adam
# re-size all the images to this
IMAGE_SIZE = [224, 224]

train_path = r'D:\COVID-19_Data\train'
valid_path = r'D:\COVID-19_Data\test'

# add preprocessing layer to the front of VGG
vgg = VGG16(input_shape=IMAGE_SIZE + [3], weights='imagenet', include_top=False)

# don't train existing weights
for layer in vgg.layers:
  layer.trainable = False
  

  
  # useful for getting number of classes
folders = glob(r'D:\Curated X-Ray Dataset\test\*')
  

# our layers - you can add more if you want
x = Flatten()(vgg.output)
# x = Dense(1000, activation='relu')(x)
prediction = Dense(len(folders), activation='softmax')(x)

# create a model object
model = Model(inputs=vgg.input, outputs=prediction)

# view the structure of the model
model.summary()

# tell the model what cost and optimization method to use
model.compile(
  loss='categorical_crossentropy',
  optimizer=Adam(lr=0.001),
  metrics=['accuracy']
)


from keras.preprocessing.image import ImageDataGenerator

train_datagen = ImageDataGenerator(rescale = 1.//255,
                                   shear_range = 0.2,
                                   zoom_range = 0.2,
                                   horizontal_flip = True)

test_datagen = ImageDataGenerator(rescale = 1.//255)

training_set = train_datagen.flow_from_directory(r"D:\Curated X-Ray Dataset\train",
                                                 target_size = (224, 224),
                                                 batch_size = 64,
                                                 class_mode = 'categorical')

test_set = test_datagen.flow_from_directory(r"D:\Curated X-Ray Dataset\test",
                                            target_size = (224, 224),
                                            batch_size = 64,
                                            class_mode = 'categorical')

# fit the model

r = model.fit(
  training_set,
  validation_data=test_set,
  epochs=10,
  steps_per_epoch=len(training_set),
  validation_steps=len(test_set)
)

# loss
plt.plot(r.history['loss'], label='train loss')
plt.plot(r.history['val_loss'], label='val loss')
plt.legend()
plt.show()
plt.savefig('LossVal_loss')

# accuracies
plt.plot(r.history['accuracy'], label='train accuracy')
plt.plot(r.history['val_accuracy'], label='val accuracy')
plt.legend()
plt.show()
plt.savefig('AccVal_accuracy')


Y_pred = model.predict(test_set)
y_pred = np.argmax(Y_pred, axis=1)

from sklearn.metrics import ConfusionMatrixDisplay
cm = confusion_matrix(test_set.classes, y_pred)
disp = ConfusionMatrixDisplay(confusion_matrix=cm,display_labels="confusion matrix")
print(classification_report(test_set.classes, y_pred))

# NOTE: Fill all variables here with default values of the plot_confusion_matrix
disp = disp.plot(cmap=plt.cm.Blues)

plt.show()

from keras.models import load_model

model.save('project_new_model.h5')
